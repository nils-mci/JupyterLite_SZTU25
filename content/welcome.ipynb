{
 "cells": [
  {
   "cell_type": "markdown",
   "metadata": {},
   "source": [
    "# 👋 Welcome to JupyterLite with R\n",
    "\n",
    "This notebook runs **completely in your browser** — no installation needed!\n",
    "\n",
    "## How to use\n",
    "1. Click into a code cell (grey box) and press **Shift + Enter** to run it.\n",
    "2. You can edit text cells (like this one) by double-clicking and then pressing **Shift + Enter** to save.\n",
    "3. Use the left file pane to open other notebooks or upload your own files.\n",
    "\n",
    "---\n",
    "### ✅ First task\n",
    "Run the R cell below to check everything is working."
   ]
  },
  {
   "cell_type": "code",
   "execution_count": null,
   "metadata": { "kernel": "ir" },
   "outputs": [],
   "source": [
    "R.version.string"
   ]
  },
  {
   "cell_type": "markdown",
   "metadata": {},
   "source": [
    "---\n",
    "### 📦 Setup: install and load course packages\n",
    "\n",
    "Run the cell below once per browser/device. It will:\n",
    "- install missing packages from the webR package repository\n",
    "- load them automatically\n",
    "\n",
    "After the first run, packages will be cached in your browser."
   ]
  },
  {
   "cell_type": "code",
   "execution_count": null,
   "metadata": { "kernel": "ir" },
   "outputs": [],
   "source": [
    "check_pkgs <- function(pkgs) {\n",
    "  missing <- setdiff(pkgs, rownames(installed.packages()))\n",
    "  if (length(missing)) {\n",
    "    message(\"Installing: \", paste(missing, collapse=\", \"))\n",
    "    install.packages(missing, repos = \"https://repo.r-wasm.org/\")\n",
    "  }\n",
    "  invisible(lapply(pkgs, require, character.only = TRUE))\n",
    "  message(\"All set ✔\")\n",
    "}\n",
    "\n",
    "# 🔧 Edit this list for your course\n",
    "check_pkgs(c(\"ggplot2\", \"dplyr\", \"readr\"))"
   ]
  },
  {
   "cell_type": "markdown",
   "metadata": {},
   "source": [
    "If you see `All set ✔` above, you’re ready to go!\n",
    "\n",
    "---\n",
    "## Next steps\n",
    "- Write R code in new code cells\n",
    "- Add new cells with the `+` button in the toolbar\n",
    "- Save your work with **File → Download** to submit or keep it."
   ]
  }
 ],
 "metadata": {
  "kernelspec": {
   "display_name": "R",
   "language": "R",
   "name": "ir"
  },
  "language_info": {
   "name": "R"
  }
 },
 "nbformat": 4,
 "nbformat_minor": 5
}
