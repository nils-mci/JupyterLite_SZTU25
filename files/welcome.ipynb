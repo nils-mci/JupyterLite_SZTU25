{
 "cells": [
  {
   "cell_type": "markdown",
   "metadata": {},
   "source": [
    "# 👋 Welcome to JupyterLite (R + Python)\n",
    "\n",
    "This site runs **entirely in your browser** — no installation needed.\n",
    "\n",
    "## How to use\n",
    "1. Click a code cell and press **Shift+Enter** to run it.\n",
    "2. Use the left file pane to open other notebooks or upload your own files.\n",
    "3. Save your work with **File → Download** (Notebook or HTML) before leaving.\n",
    "\n",
    "---\n",
    "### ✅ First check (R)\n",
    "Run the next cell to see your R version."
   ]
  },
  {
   "cell_type": "code",
   "execution_count": null,
   "metadata": { "kernel": "ir" },
   "outputs": [],
   "source": [
    "R.version.string"
   ]
  },
  {
   "cell_type": "markdown",
   "metadata": {},
   "source": [
    "---\n",
    "### 📁 Load the example data as dataframe (df) \n",
   ]
  },
  {
   "cell_type": "code",
   "execution_count": null,
   "metadata": { "kernel": "ir" },
   "outputs": [],
   "source": [
    "df= read.csv("ChinaRegionalData.csv", header = TRUE, stringsAsFactors = FALSE, fileEncoding = "UTF-8-BOM")"
    "head(df)"
   ]
  },
  {
   "cell_type": "markdown",
   "metadata": {},
   "source": [
    "---\n",
    "### ✅ Save your work\n",
    "- Use **File → Download** to save your current notebook.\n",
    "- Your files also persist in this browser unless you clear site data.",
    "**Now click below to add a new cell and start your analysis!**"
   ]
  }
 ],
 "metadata": {
  "kernelspec": {
   "display_name": "R",
   "language": "R",
   "name": "ir"
  },
  "language_info": { "name": "R" }
 },
 "nbformat": 4,
 "nbformat_minor": 5
}
