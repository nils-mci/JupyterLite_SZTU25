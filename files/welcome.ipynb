{
 "cells": [
  {
   "cell_type": "markdown",
   "metadata": {},
   "source": [
    "# 👋 Welcome to JupyterLite (R + Python)\n",
    "\n",
    "This site runs **entirely in your browser** — no installation needed.\n",
    "\n",
    "## How to use\n",
    "1. Click a code cell and press **Shift+Enter** to run it.\n",
    "2. Use the left file pane to open other notebooks or upload your own files.\n",
    "3. Save your work with **File → Download** (Notebook or HTML) before leaving.\n",
    "\n",
    "---\n",
    "### ✅ First check (R)\n",
    "Run the next cell to see your R version."
   ]
  },
  {
   "cell_type": "code",
   "execution_count": null,
   "metadata": { "kernel": "ir" },
   "outputs": [],
   "source": [
    "R.version.string"
   ]
  },
  {
   "cell_type": "markdown",
   "metadata": {},
   "source": [
    "---\n",
    "### 📦 Setup: install and load course packages\n",
    "Run once per browser/device. Packages are cached locally (IndexedDB)."
   ]
  },
  {
   "cell_type": "code",
   "execution_count": null,
   "metadata": { "kernel": "ir" },
   "outputs": [],
   "source": [
    "check_pkgs <- function(pkgs) {\n",
    "  missing <- setdiff(pkgs, rownames(installed.packages()))\n",
    "  if (length(missing)) {\n",
    "    message(\"Installing: \", paste(missing, collapse=\", \"))\n",
    "    install.packages(missing, repos = \"https://repo.r-wasm.org/\")\n",
    "  }\n",
    "  invisible(lapply(pkgs, require, character.only = TRUE))\n",
    "  message(\"All set ✔\")\n",
    "}\n",
    "\n",
    "# 🔧 Edit this list for your course\n",
    "check_pkgs(c(\"ggplot2\", \"dplyr\", \"readr\"))"
   ]
  },
  {
   "cell_type": "markdown",
   "metadata": {},
   "source": [
    "---\n",
    "### 📁 Load the example CSV (from files/data/example.csv)\n",
    "Tip: You can replace `example.csv` with your own data files in the same folder."
   ]
  },
  {
   "cell_type": "code",
   "execution_count": null,
   "metadata": { "kernel": "ir" },
   "outputs": [],
   "source": [
    "library(readr)\n",
    "df <- read_csv(\"files/data/example.csv\", show_col_types = FALSE)\n",
    "print(df)\n",
    "summary(df$value)"
   ]
  },
  {
   "cell_type": "markdown",
   "metadata": {},
   "source": [
    "---\n",
    "### ✅ Save your work\n",
    "- Use **File → Download** to save your current notebook.\n",
    "- Your files also persist in this browser unless you clear site data."
   ]
  }
 ],
 "metadata": {
  "kernelspec": {
   "display_name": "R",
   "language": "R",
   "name": "ir"
  },
  "language_info": { "name": "R" }
 },
 "nbformat": 4,
 "nbformat_minor": 5
}
